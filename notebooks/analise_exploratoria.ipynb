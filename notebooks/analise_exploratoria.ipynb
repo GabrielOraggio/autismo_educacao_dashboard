{
 "cells": [
  {
   "cell_type": "code",
   "execution_count": null,
   "id": "dcfd7a71",
   "metadata": {},
   "outputs": [],
   "source": [
    "import pandas as pd\n",
    "import matplotlib.pyplot as plt\n",
    "import seaborn as sns\n",
    "\n",
    "# Carregar dados\n",
    "df = pd.read_csv('../data/autismo_educacao.csv')\n",
    "\n",
    "# 1. Análise Inicial\n",
    "print(df.info())\n",
    "print(df.describe())\n",
    "\n",
    "# 2. Evolução Temporal\n",
    "plt.figure(figsize=(12,6))\n",
    "sns.lineplot(data=df, x='ano', y='matriculas_autismo', hue='tipo_escola')\n",
    "plt.title('Evolução das Matrículas de Alunos com Autismo')\n",
    "plt.show()\n",
    "\n",
    "# 3. Distribuição por Região\n",
    "plt.figure(figsize=(10,6))\n",
    "sns.barplot(data=df, x='regiao', y='matriculas_autismo', hue='tipo_escola')\n",
    "plt.title('Distribuição por Região')\n",
    "plt.show()"
   ]
  }
 ],
 "metadata": {
  "language_info": {
   "name": "python"
  }
 },
 "nbformat": 4,
 "nbformat_minor": 5
}
